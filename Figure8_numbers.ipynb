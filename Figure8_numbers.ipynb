{
 "cells": [
  {
   "cell_type": "markdown",
   "metadata": {},
   "source": [
    "# Compute domain-integrated energy conversions for Figure 8"
   ]
  },
  {
   "cell_type": "code",
   "execution_count": 2,
   "metadata": {},
   "outputs": [],
   "source": [
    "filter_fac_list = [32, 16, 32, 64, 128]  # filters 1/32 degree --> filter_fac/32 degree\n",
    "cycle_list = ['lorenz', 'bleck', 'bleck', 'bleck', 'bleck']"
   ]
  },
  {
   "cell_type": "code",
   "execution_count": 3,
   "metadata": {},
   "outputs": [],
   "source": [
    "import numpy as np\n",
    "import xarray as xr\n",
    "from dask.diagnostics import ProgressBar"
   ]
  },
  {
   "cell_type": "code",
   "execution_count": 4,
   "metadata": {},
   "outputs": [],
   "source": [
    "run = 'nw2_0.03125deg_N15_baseline_hmix20'"
   ]
  },
  {
   "cell_type": "code",
   "execution_count": 5,
   "metadata": {},
   "outputs": [],
   "source": [
    "basepath = '/glade/p/univ/unyu0004/gmarques/NeverWorld2/baselines/'\n",
    "st = xr.open_dataset('%s/%s/static.nc' % (basepath,run), decode_times=False)"
   ]
  },
  {
   "cell_type": "code",
   "execution_count": 7,
   "metadata": {},
   "outputs": [],
   "source": [
    "# 500 day averaged energy cycles\n",
    "workpath = '/glade/work/noraloose/' \n",
    "\n",
    "ds_list = []\n",
    "\n",
    "for filter_fac, cycle in zip(filter_fac_list, cycle_list):\n",
    "    ds = xr.open_dataset('%s/%s/%s_cycle_fac%i_500days.nc' % (workpath, run, cycle, filter_fac), decode_times=False)\n",
    "    ds_list.append(ds)"
   ]
  },
  {
   "cell_type": "markdown",
   "metadata": {},
   "source": [
    "### Integrate over domain"
   ]
  },
  {
   "cell_type": "code",
   "execution_count": 18,
   "metadata": {},
   "outputs": [],
   "source": [
    "fldlist_nonTWA = [\n",
    "    'MKE_wind_stress', 'MKE_bottom_drag', 'MKE_vertical_viscosity', 'MKE_horizontal_viscosity',\n",
    "    'EKE_wind_stress', 'EKE_bottom_drag', 'EKE_vertical_viscosity', 'EKE_horizontal_viscosity',\n",
    "    'MKE_to_MPE', 'BC_conversion', 'dEPEdt', 'EKE_production',\n",
    "    'work_eddy_momentum_fluxes'\n",
    "]\n",
    "fldlist_TWA = [\n",
    "    'MKE_wind_stress_TWA', 'MKE_bottom_drag_TWA', 'MKE_vertical_viscosity_TWA', 'MKE_horizontal_viscosity_TWA',\n",
    "    'EKE_wind_stress_TWA', 'EKE_bottom_drag_TWA', 'EKE_vertical_viscosity_TWA', 'EKE_horizontal_viscosity_TWA',\n",
    "    'MKE_to_MPE_TWA', 'BC_conversion_TWA', 'dEPEdt', 'EKE_production_TWA',\n",
    "    'work_eddy_momentum_fluxes_TWA'\n",
    "]"
   ]
  },
  {
   "cell_type": "code",
   "execution_count": 19,
   "metadata": {},
   "outputs": [],
   "source": [
    "dst_integrals_list = []\n",
    "for ds, cycle in zip(ds_list, cycle_list):\n",
    "    if cycle == 'lorenz':\n",
    "        fldlist = fldlist_nonTWA\n",
    "    elif cycle == 'bleck':\n",
    "        fldlist = fldlist_TWA\n",
    "    else:\n",
    "        raise AssertionError('specify valid cycle name')\n",
    "    dst_integrals = xr.Dataset()\n",
    "    for name in fldlist:\n",
    "        dst_integrals[name] = (ds[name] * st.area_t).sum(dim=['xh', 'yh'])\n",
    "    dst_integrals_list.append(dst_integrals)"
   ]
  },
  {
   "cell_type": "code",
   "execution_count": 53,
   "metadata": {},
   "outputs": [
    {
     "name": "stdout",
     "output_type": "stream",
     "text": [
      " lorenz cycle, filter scale:  1.0 degree\n",
      "-----------------------------------------\n",
      "               MKE_wind_stress     691.60\n",
      "               MKE_bottom_drag    -232.78\n",
      "        MKE_vertical_viscosity    -162.72\n",
      "      MKE_horizontal_viscosity     -12.75\n",
      "               EKE_wind_stress    -279.38\n",
      "               EKE_bottom_drag     -71.60\n",
      "        EKE_vertical_viscosity     107.08\n",
      "      EKE_horizontal_viscosity     -44.44\n",
      "                    MKE_to_MPE     422.29\n",
      "                 BC_conversion     417.74\n",
      "                        dEPEdt      -1.15\n",
      "                EKE_production     418.89\n",
      "     work_eddy_momentum_fluxes    -134.99\n",
      "\n",
      "\n",
      "  bleck cycle, filter scale:  0.5 degree\n",
      "-----------------------------------------\n",
      "           MKE_wind_stress_TWA     403.59\n",
      "           MKE_bottom_drag_TWA    -262.77\n",
      "    MKE_vertical_viscosity_TWA     -46.61\n",
      "  MKE_horizontal_viscosity_TWA      -2.14\n",
      "           EKE_wind_stress_TWA       8.64\n",
      "           EKE_bottom_drag_TWA     -41.29\n",
      "    EKE_vertical_viscosity_TWA      -9.34\n",
      "  EKE_horizontal_viscosity_TWA     -55.06\n",
      "                MKE_to_MPE_TWA       4.51\n",
      "             BC_conversion_TWA     128.38\n",
      "                        dEPEdt      -1.11\n",
      "            EKE_production_TWA     129.49\n",
      " work_eddy_momentum_fluxes_TWA     -36.24\n",
      "\n",
      "\n",
      "  bleck cycle, filter scale:  1.0 degree\n",
      "-----------------------------------------\n",
      "           MKE_wind_stress_TWA     399.65\n",
      "           MKE_bottom_drag_TWA    -229.92\n",
      "    MKE_vertical_viscosity_TWA     -40.47\n",
      "  MKE_horizontal_viscosity_TWA      -0.68\n",
      "           EKE_wind_stress_TWA      12.57\n",
      "           EKE_bottom_drag_TWA     -74.46\n",
      "    EKE_vertical_viscosity_TWA     -15.17\n",
      "  EKE_horizontal_viscosity_TWA     -56.52\n",
      "                MKE_to_MPE_TWA       4.55\n",
      "             BC_conversion_TWA     215.51\n",
      "                        dEPEdt      -1.15\n",
      "            EKE_production_TWA     216.66\n",
      " work_eddy_momentum_fluxes_TWA     -87.43\n",
      "\n",
      "\n",
      "  bleck cycle, filter scale:  2.0 degree\n",
      "-----------------------------------------\n",
      "           MKE_wind_stress_TWA     396.09\n",
      "           MKE_bottom_drag_TWA    -163.83\n",
      "    MKE_vertical_viscosity_TWA     -31.67\n",
      "  MKE_horizontal_viscosity_TWA       0.02\n",
      "           EKE_wind_stress_TWA      16.14\n",
      "           EKE_bottom_drag_TWA    -139.56\n",
      "    EKE_vertical_viscosity_TWA     -24.95\n",
      "  EKE_horizontal_viscosity_TWA     -57.21\n",
      "                MKE_to_MPE_TWA       4.34\n",
      "             BC_conversion_TWA     313.22\n",
      "                        dEPEdt      -0.94\n",
      "            EKE_production_TWA     314.16\n",
      " work_eddy_momentum_fluxes_TWA    -113.62\n",
      "\n",
      "\n",
      "  bleck cycle, filter scale:  4.0 degree\n",
      "-----------------------------------------\n",
      "           MKE_wind_stress_TWA     389.55\n",
      "           MKE_bottom_drag_TWA     -79.07\n",
      "    MKE_vertical_viscosity_TWA     -23.07\n",
      "  MKE_horizontal_viscosity_TWA       0.16\n",
      "           EKE_wind_stress_TWA      22.68\n",
      "           EKE_bottom_drag_TWA    -221.70\n",
      "    EKE_vertical_viscosity_TWA     -36.18\n",
      "  EKE_horizontal_viscosity_TWA     -57.35\n",
      "                MKE_to_MPE_TWA       2.93\n",
      "             BC_conversion_TWA     323.89\n",
      "                        dEPEdt       0.47\n",
      "            EKE_production_TWA     323.41\n",
      " work_eddy_momentum_fluxes_TWA     -36.15\n",
      "\n",
      "\n"
     ]
    }
   ],
   "source": [
    "for dst_integrals, cycle, filter_fac in zip(dst_integrals_list, cycle_list, filter_fac_list):\n",
    "    print('{:>7s} {:s} {:s} {:2.1f} {:s}'.format(cycle, 'cycle,', 'filter scale: ', filter_fac / 32, 'degree'))\n",
    "    print('-----------------------------------------')\n",
    "    for name in dst_integrals.data_vars:\n",
    "        print('{:>30s} {:10.2f}'.format(name, dst_integrals[name].values/1e6))  # in GW converted from m5 s-3 by using reference density 1000 kgm-3\n",
    "    print('')\n",
    "    print('')"
   ]
  },
  {
   "cell_type": "code",
   "execution_count": null,
   "metadata": {},
   "outputs": [],
   "source": []
  }
 ],
 "metadata": {
  "kernelspec": {
   "display_name": "my-kernel",
   "language": "python",
   "name": "my-kernel"
  },
  "language_info": {
   "codemirror_mode": {
    "name": "ipython",
    "version": 3
   },
   "file_extension": ".py",
   "mimetype": "text/x-python",
   "name": "python",
   "nbconvert_exporter": "python",
   "pygments_lexer": "ipython3",
   "version": "3.8.12"
  }
 },
 "nbformat": 4,
 "nbformat_minor": 4
}
